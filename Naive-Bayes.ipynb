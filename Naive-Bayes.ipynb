{
 "cells": [
  {
   "cell_type": "markdown",
   "id": "37455bcf",
   "metadata": {},
   "source": [
    "# Project Overview and Dataset"
   ]
  },
  {
   "cell_type": "markdown",
   "id": "3bf96f1d",
   "metadata": {},
   "source": [
    "### Practice about all types of Naive_Bayes and types of dataset that work on Naive_Bayes   ( Categorical - Numerical - Mixed between categorical and numerical )."
   ]
  },
  {
   "cell_type": "markdown",
   "id": "0f761ed0",
   "metadata": {},
   "source": [
    "### We use dataset handle to understand the Naive_Bayes and how to deal with it."
   ]
  },
  {
   "cell_type": "markdown",
   "id": "59e8026f",
   "metadata": {},
   "source": [
    "## Read Dataset"
   ]
  },
  {
   "cell_type": "code",
   "execution_count": null,
   "id": "f9234be4",
   "metadata": {},
   "outputs": [],
   "source": [
    "# Read dataset using pandas.\n",
    "import pandas as pd\n",
    "\n",
    "data_example_1 = pd.read_csv('data-all-categorical.data')\n",
    "\n",
    "data_example_1.head()"
   ]
  },
  {
   "cell_type": "code",
   "execution_count": 2,
   "id": "169e4c69",
   "metadata": {},
   "outputs": [
    {
     "data": {
      "text/plain": [
       "Day            object\n",
       "Outlook        object\n",
       "Temperature    object\n",
       "Humidity       object\n",
       "Wind           object\n",
       "PlayTennis     object\n",
       "dtype: object"
      ]
     },
     "execution_count": 2,
     "metadata": {},
     "output_type": "execute_result"
    }
   ],
   "source": [
    "# show the data types of dataset.\n",
    "data_example_1.dtypes"
   ]
  },
  {
   "cell_type": "code",
   "execution_count": 3,
   "id": "96a35531",
   "metadata": {},
   "outputs": [
    {
     "name": "stdout",
     "output_type": "stream",
     "text": [
      "['Sunny' 'Overcast' 'Rain']\n",
      "['Hot' 'Mild' 'Cool']\n",
      "['High' 'Normal']\n",
      "['Weak' 'Strong']\n",
      "['No' 'Yes']\n"
     ]
    }
   ],
   "source": [
    "# Show what include of all categorical columns.\n",
    "print(data_example_1['Outlook'].unique())\n",
    "print(data_example_1['Temperature'].unique())\n",
    "print(data_example_1['Humidity'].unique())\n",
    "print(data_example_1['Wind'].unique())\n",
    "print(data_example_1['PlayTennis'].unique())"
   ]
  },
  {
   "cell_type": "markdown",
   "id": "b180825a",
   "metadata": {},
   "source": [
    "## Encoding dataset"
   ]
  },
  {
   "cell_type": "code",
   "execution_count": 4,
   "id": "12fc55a2",
   "metadata": {},
   "outputs": [
    {
     "data": {
      "text/html": [
       "<div>\n",
       "<style scoped>\n",
       "    .dataframe tbody tr th:only-of-type {\n",
       "        vertical-align: middle;\n",
       "    }\n",
       "\n",
       "    .dataframe tbody tr th {\n",
       "        vertical-align: top;\n",
       "    }\n",
       "\n",
       "    .dataframe thead th {\n",
       "        text-align: right;\n",
       "    }\n",
       "</style>\n",
       "<table border=\"1\" class=\"dataframe\">\n",
       "  <thead>\n",
       "    <tr style=\"text-align: right;\">\n",
       "      <th></th>\n",
       "      <th>Day</th>\n",
       "      <th>Outlook</th>\n",
       "      <th>Temperature</th>\n",
       "      <th>Humidity</th>\n",
       "      <th>Wind</th>\n",
       "      <th>PlayTennis</th>\n",
       "    </tr>\n",
       "  </thead>\n",
       "  <tbody>\n",
       "    <tr>\n",
       "      <th>0</th>\n",
       "      <td>D1</td>\n",
       "      <td>0</td>\n",
       "      <td>0</td>\n",
       "      <td>0</td>\n",
       "      <td>0</td>\n",
       "      <td>0</td>\n",
       "    </tr>\n",
       "    <tr>\n",
       "      <th>1</th>\n",
       "      <td>D2</td>\n",
       "      <td>0</td>\n",
       "      <td>0</td>\n",
       "      <td>0</td>\n",
       "      <td>1</td>\n",
       "      <td>0</td>\n",
       "    </tr>\n",
       "    <tr>\n",
       "      <th>2</th>\n",
       "      <td>D3</td>\n",
       "      <td>1</td>\n",
       "      <td>0</td>\n",
       "      <td>0</td>\n",
       "      <td>0</td>\n",
       "      <td>1</td>\n",
       "    </tr>\n",
       "    <tr>\n",
       "      <th>3</th>\n",
       "      <td>D4</td>\n",
       "      <td>2</td>\n",
       "      <td>1</td>\n",
       "      <td>0</td>\n",
       "      <td>0</td>\n",
       "      <td>1</td>\n",
       "    </tr>\n",
       "    <tr>\n",
       "      <th>4</th>\n",
       "      <td>D5</td>\n",
       "      <td>2</td>\n",
       "      <td>2</td>\n",
       "      <td>1</td>\n",
       "      <td>0</td>\n",
       "      <td>1</td>\n",
       "    </tr>\n",
       "  </tbody>\n",
       "</table>\n",
       "</div>"
      ],
      "text/plain": [
       "  Day  Outlook  Temperature  Humidity  Wind  PlayTennis\n",
       "0  D1        0            0         0     0           0\n",
       "1  D2        0            0         0     1           0\n",
       "2  D3        1            0         0     0           1\n",
       "3  D4        2            1         0     0           1\n",
       "4  D5        2            2         1     0           1"
      ]
     },
     "execution_count": 4,
     "metadata": {},
     "output_type": "execute_result"
    }
   ],
   "source": [
    "# Encoding data. ==> Binary and ordinary data types\n",
    "data_encoded = data_example_1.replace({\n",
    "    'Outlook': {'Sunny': 0, 'Overcast': 1, 'Rain': 2},\n",
    "    'Temperature': {'Hot': 0, 'Mild': 1, 'Cool': 2},\n",
    "    'Humidity': {'High': 0, 'Normal': 1},\n",
    "    'Wind': {'Weak': 0, 'Strong': 1},\n",
    "    'PlayTennis': {'No': 0, 'Yes': 1}\n",
    "})\n",
    "\n",
    "data_encoded.head()"
   ]
  },
  {
   "cell_type": "code",
   "execution_count": 5,
   "id": "ee50be0b",
   "metadata": {},
   "outputs": [
    {
     "data": {
      "text/plain": [
       "Day            object\n",
       "Outlook         int64\n",
       "Temperature     int64\n",
       "Humidity        int64\n",
       "Wind            int64\n",
       "PlayTennis      int64\n",
       "dtype: object"
      ]
     },
     "execution_count": 5,
     "metadata": {},
     "output_type": "execute_result"
    }
   ],
   "source": [
    "# show the data types of data before encoded.\n",
    "data_encoded.dtypes"
   ]
  },
  {
   "cell_type": "markdown",
   "id": "3a5aef89",
   "metadata": {},
   "source": [
    "## Splitting data to input and output"
   ]
  },
  {
   "cell_type": "code",
   "execution_count": 6,
   "id": "8ae6f2db",
   "metadata": {},
   "outputs": [
    {
     "data": {
      "text/html": [
       "<div>\n",
       "<style scoped>\n",
       "    .dataframe tbody tr th:only-of-type {\n",
       "        vertical-align: middle;\n",
       "    }\n",
       "\n",
       "    .dataframe tbody tr th {\n",
       "        vertical-align: top;\n",
       "    }\n",
       "\n",
       "    .dataframe thead th {\n",
       "        text-align: right;\n",
       "    }\n",
       "</style>\n",
       "<table border=\"1\" class=\"dataframe\">\n",
       "  <thead>\n",
       "    <tr style=\"text-align: right;\">\n",
       "      <th></th>\n",
       "      <th>Outlook</th>\n",
       "      <th>Temperature</th>\n",
       "      <th>Humidity</th>\n",
       "      <th>Wind</th>\n",
       "    </tr>\n",
       "  </thead>\n",
       "  <tbody>\n",
       "    <tr>\n",
       "      <th>0</th>\n",
       "      <td>0</td>\n",
       "      <td>0</td>\n",
       "      <td>0</td>\n",
       "      <td>0</td>\n",
       "    </tr>\n",
       "    <tr>\n",
       "      <th>1</th>\n",
       "      <td>0</td>\n",
       "      <td>0</td>\n",
       "      <td>0</td>\n",
       "      <td>1</td>\n",
       "    </tr>\n",
       "    <tr>\n",
       "      <th>2</th>\n",
       "      <td>1</td>\n",
       "      <td>0</td>\n",
       "      <td>0</td>\n",
       "      <td>0</td>\n",
       "    </tr>\n",
       "    <tr>\n",
       "      <th>3</th>\n",
       "      <td>2</td>\n",
       "      <td>1</td>\n",
       "      <td>0</td>\n",
       "      <td>0</td>\n",
       "    </tr>\n",
       "    <tr>\n",
       "      <th>4</th>\n",
       "      <td>2</td>\n",
       "      <td>2</td>\n",
       "      <td>1</td>\n",
       "      <td>0</td>\n",
       "    </tr>\n",
       "  </tbody>\n",
       "</table>\n",
       "</div>"
      ],
      "text/plain": [
       "   Outlook  Temperature  Humidity  Wind\n",
       "0        0            0         0     0\n",
       "1        0            0         0     1\n",
       "2        1            0         0     0\n",
       "3        2            1         0     0\n",
       "4        2            2         1     0"
      ]
     },
     "execution_count": 6,
     "metadata": {},
     "output_type": "execute_result"
    }
   ],
   "source": [
    "# Split dataset to input and output.\n",
    "data_input = data_encoded.drop(columns = ['Day','PlayTennis'])\n",
    "data_output = data_encoded['PlayTennis']\n",
    "\n",
    "data_input.head()"
   ]
  },
  {
   "cell_type": "code",
   "execution_count": 7,
   "id": "47926386",
   "metadata": {},
   "outputs": [
    {
     "data": {
      "text/plain": [
       "0    0\n",
       "1    0\n",
       "2    1\n",
       "3    1\n",
       "4    1\n",
       "Name: PlayTennis, dtype: int64"
      ]
     },
     "execution_count": 7,
     "metadata": {},
     "output_type": "execute_result"
    }
   ],
   "source": [
    "# Show the output only.\n",
    "data_output.head()"
   ]
  },
  {
   "cell_type": "markdown",
   "id": "7cb471f8",
   "metadata": {},
   "source": [
    "## Deal with Categorical data in Navie_Bayes"
   ]
  },
  {
   "cell_type": "code",
   "execution_count": 8,
   "id": "088a4654",
   "metadata": {},
   "outputs": [],
   "source": [
    "# import naive_bayes.\n",
    "# The first type of naive_bayes deal with Categorical data only.\n",
    "\n",
    "from sklearn.naive_bayes import CategoricalNB"
   ]
  },
  {
   "cell_type": "markdown",
   "id": "2aa0b55a",
   "metadata": {},
   "source": [
    "## Train, Validation and Test Dataset"
   ]
  },
  {
   "cell_type": "code",
   "execution_count": 9,
   "id": "54130321",
   "metadata": {},
   "outputs": [],
   "source": [
    "# Take object from naive_vayes to use it.\n",
    "cat_nb = CategoricalNB()\n",
    "\n",
    "# Train Model.\n",
    "cat_nb.fit(data_input, data_output)\n",
    "\n",
    "# Predict the value of output.\n",
    "y_pred = cat_nb.predict(data_input)"
   ]
  },
  {
   "cell_type": "code",
   "execution_count": 10,
   "id": "42f85d38",
   "metadata": {},
   "outputs": [
    {
     "data": {
      "text/plain": [
       "0.9285714285714286"
      ]
     },
     "execution_count": 10,
     "metadata": {},
     "output_type": "execute_result"
    }
   ],
   "source": [
    "# Import accuracy_score to know accuray of model.\n",
    "from sklearn.metrics import accuracy_score\n",
    "\n",
    "# Calculate accuracy of model.\n",
    "accuracy_score(data_output, y_pred)"
   ]
  },
  {
   "cell_type": "markdown",
   "id": "deb0344e",
   "metadata": {},
   "source": [
    "## Deal with another dataset"
   ]
  },
  {
   "cell_type": "code",
   "execution_count": 11,
   "id": "8b3fe973",
   "metadata": {},
   "outputs": [
    {
     "data": {
      "text/html": [
       "<div>\n",
       "<style scoped>\n",
       "    .dataframe tbody tr th:only-of-type {\n",
       "        vertical-align: middle;\n",
       "    }\n",
       "\n",
       "    .dataframe tbody tr th {\n",
       "        vertical-align: top;\n",
       "    }\n",
       "\n",
       "    .dataframe thead th {\n",
       "        text-align: right;\n",
       "    }\n",
       "</style>\n",
       "<table border=\"1\" class=\"dataframe\">\n",
       "  <thead>\n",
       "    <tr style=\"text-align: right;\">\n",
       "      <th></th>\n",
       "      <th>Day</th>\n",
       "      <th>Outlook</th>\n",
       "      <th>Temperature</th>\n",
       "      <th>Humidity</th>\n",
       "      <th>Wind</th>\n",
       "      <th>PlayTennis</th>\n",
       "    </tr>\n",
       "  </thead>\n",
       "  <tbody>\n",
       "    <tr>\n",
       "      <th>0</th>\n",
       "      <td>D1</td>\n",
       "      <td>Sunny</td>\n",
       "      <td>85</td>\n",
       "      <td>85</td>\n",
       "      <td>Weak</td>\n",
       "      <td>No</td>\n",
       "    </tr>\n",
       "    <tr>\n",
       "      <th>1</th>\n",
       "      <td>D2</td>\n",
       "      <td>Sunny</td>\n",
       "      <td>80</td>\n",
       "      <td>90</td>\n",
       "      <td>Strong</td>\n",
       "      <td>No</td>\n",
       "    </tr>\n",
       "    <tr>\n",
       "      <th>2</th>\n",
       "      <td>D3</td>\n",
       "      <td>Overcast</td>\n",
       "      <td>83</td>\n",
       "      <td>86</td>\n",
       "      <td>Weak</td>\n",
       "      <td>Yes</td>\n",
       "    </tr>\n",
       "    <tr>\n",
       "      <th>3</th>\n",
       "      <td>D4</td>\n",
       "      <td>Rain</td>\n",
       "      <td>70</td>\n",
       "      <td>96</td>\n",
       "      <td>Weak</td>\n",
       "      <td>Yes</td>\n",
       "    </tr>\n",
       "    <tr>\n",
       "      <th>4</th>\n",
       "      <td>D5</td>\n",
       "      <td>Rain</td>\n",
       "      <td>68</td>\n",
       "      <td>80</td>\n",
       "      <td>Weak</td>\n",
       "      <td>Yes</td>\n",
       "    </tr>\n",
       "  </tbody>\n",
       "</table>\n",
       "</div>"
      ],
      "text/plain": [
       "  Day   Outlook  Temperature  Humidity    Wind PlayTennis\n",
       "0  D1     Sunny           85        85    Weak         No\n",
       "1  D2     Sunny           80        90  Strong         No\n",
       "2  D3  Overcast           83        86    Weak        Yes\n",
       "3  D4      Rain           70        96    Weak        Yes\n",
       "4  D5      Rain           68        80    Weak        Yes"
      ]
     },
     "execution_count": 11,
     "metadata": {},
     "output_type": "execute_result"
    }
   ],
   "source": [
    "# Read secound dataset using pandas.\n",
    "data_example_2 = pd.read_csv('data-with-numerical.data')\n",
    "\n",
    "data_example_2.head()"
   ]
  },
  {
   "cell_type": "code",
   "execution_count": 12,
   "id": "4ecc95c7",
   "metadata": {},
   "outputs": [
    {
     "data": {
      "text/plain": [
       "Day            object\n",
       "Outlook        object\n",
       "Temperature     int64\n",
       "Humidity        int64\n",
       "Wind           object\n",
       "PlayTennis     object\n",
       "dtype: object"
      ]
     },
     "execution_count": 12,
     "metadata": {},
     "output_type": "execute_result"
    }
   ],
   "source": [
    "# Show the data types of dataset.\n",
    "data_example_2.dtypes"
   ]
  },
  {
   "cell_type": "markdown",
   "id": "dd444269",
   "metadata": {},
   "source": [
    "## Encoding dataset"
   ]
  },
  {
   "cell_type": "code",
   "execution_count": 13,
   "id": "5a6a7d6b",
   "metadata": {},
   "outputs": [
    {
     "data": {
      "text/html": [
       "<div>\n",
       "<style scoped>\n",
       "    .dataframe tbody tr th:only-of-type {\n",
       "        vertical-align: middle;\n",
       "    }\n",
       "\n",
       "    .dataframe tbody tr th {\n",
       "        vertical-align: top;\n",
       "    }\n",
       "\n",
       "    .dataframe thead th {\n",
       "        text-align: right;\n",
       "    }\n",
       "</style>\n",
       "<table border=\"1\" class=\"dataframe\">\n",
       "  <thead>\n",
       "    <tr style=\"text-align: right;\">\n",
       "      <th></th>\n",
       "      <th>Day</th>\n",
       "      <th>Outlook</th>\n",
       "      <th>Temperature</th>\n",
       "      <th>Humidity</th>\n",
       "      <th>Wind</th>\n",
       "      <th>PlayTennis</th>\n",
       "    </tr>\n",
       "  </thead>\n",
       "  <tbody>\n",
       "    <tr>\n",
       "      <th>0</th>\n",
       "      <td>D1</td>\n",
       "      <td>0</td>\n",
       "      <td>85</td>\n",
       "      <td>85</td>\n",
       "      <td>0</td>\n",
       "      <td>0</td>\n",
       "    </tr>\n",
       "    <tr>\n",
       "      <th>1</th>\n",
       "      <td>D2</td>\n",
       "      <td>0</td>\n",
       "      <td>80</td>\n",
       "      <td>90</td>\n",
       "      <td>1</td>\n",
       "      <td>0</td>\n",
       "    </tr>\n",
       "    <tr>\n",
       "      <th>2</th>\n",
       "      <td>D3</td>\n",
       "      <td>1</td>\n",
       "      <td>83</td>\n",
       "      <td>86</td>\n",
       "      <td>0</td>\n",
       "      <td>1</td>\n",
       "    </tr>\n",
       "    <tr>\n",
       "      <th>3</th>\n",
       "      <td>D4</td>\n",
       "      <td>2</td>\n",
       "      <td>70</td>\n",
       "      <td>96</td>\n",
       "      <td>0</td>\n",
       "      <td>1</td>\n",
       "    </tr>\n",
       "    <tr>\n",
       "      <th>4</th>\n",
       "      <td>D5</td>\n",
       "      <td>2</td>\n",
       "      <td>68</td>\n",
       "      <td>80</td>\n",
       "      <td>0</td>\n",
       "      <td>1</td>\n",
       "    </tr>\n",
       "  </tbody>\n",
       "</table>\n",
       "</div>"
      ],
      "text/plain": [
       "  Day  Outlook  Temperature  Humidity  Wind  PlayTennis\n",
       "0  D1        0           85        85     0           0\n",
       "1  D2        0           80        90     1           0\n",
       "2  D3        1           83        86     0           1\n",
       "3  D4        2           70        96     0           1\n",
       "4  D5        2           68        80     0           1"
      ]
     },
     "execution_count": 13,
     "metadata": {},
     "output_type": "execute_result"
    }
   ],
   "source": [
    "# Encoding data ==> Binary and ordinary data types.\n",
    "data_encoded = data_example_2.replace({\n",
    "    'Outlook': {'Sunny': 0, 'Overcast': 1, 'Rain': 2},\n",
    "    'Wind': {'Weak': 0, 'Strong': 1},\n",
    "    'PlayTennis': {'No': 0, 'Yes': 1}\n",
    "})\n",
    "\n",
    "data_encoded.head()"
   ]
  },
  {
   "cell_type": "markdown",
   "id": "49ca2514",
   "metadata": {},
   "source": [
    "## Splitting data to input and output"
   ]
  },
  {
   "cell_type": "code",
   "execution_count": 14,
   "id": "5b43a81a",
   "metadata": {},
   "outputs": [
    {
     "data": {
      "text/html": [
       "<div>\n",
       "<style scoped>\n",
       "    .dataframe tbody tr th:only-of-type {\n",
       "        vertical-align: middle;\n",
       "    }\n",
       "\n",
       "    .dataframe tbody tr th {\n",
       "        vertical-align: top;\n",
       "    }\n",
       "\n",
       "    .dataframe thead th {\n",
       "        text-align: right;\n",
       "    }\n",
       "</style>\n",
       "<table border=\"1\" class=\"dataframe\">\n",
       "  <thead>\n",
       "    <tr style=\"text-align: right;\">\n",
       "      <th></th>\n",
       "      <th>Temperature</th>\n",
       "      <th>Humidity</th>\n",
       "    </tr>\n",
       "  </thead>\n",
       "  <tbody>\n",
       "    <tr>\n",
       "      <th>0</th>\n",
       "      <td>85</td>\n",
       "      <td>85</td>\n",
       "    </tr>\n",
       "    <tr>\n",
       "      <th>1</th>\n",
       "      <td>80</td>\n",
       "      <td>90</td>\n",
       "    </tr>\n",
       "    <tr>\n",
       "      <th>2</th>\n",
       "      <td>83</td>\n",
       "      <td>86</td>\n",
       "    </tr>\n",
       "    <tr>\n",
       "      <th>3</th>\n",
       "      <td>70</td>\n",
       "      <td>96</td>\n",
       "    </tr>\n",
       "    <tr>\n",
       "      <th>4</th>\n",
       "      <td>68</td>\n",
       "      <td>80</td>\n",
       "    </tr>\n",
       "  </tbody>\n",
       "</table>\n",
       "</div>"
      ],
      "text/plain": [
       "   Temperature  Humidity\n",
       "0           85        85\n",
       "1           80        90\n",
       "2           83        86\n",
       "3           70        96\n",
       "4           68        80"
      ]
     },
     "execution_count": 14,
     "metadata": {},
     "output_type": "execute_result"
    }
   ],
   "source": [
    "# Split data to input and output.\n",
    "data_input = data_encoded[['Temperature', 'Humidity']]\n",
    "data_output = data_encoded['PlayTennis']\n",
    "\n",
    "data_input.head()"
   ]
  },
  {
   "cell_type": "code",
   "execution_count": 15,
   "id": "cbbbb724",
   "metadata": {},
   "outputs": [
    {
     "data": {
      "text/plain": [
       "0    0\n",
       "1    0\n",
       "2    1\n",
       "3    1\n",
       "4    1\n",
       "Name: PlayTennis, dtype: int64"
      ]
     },
     "execution_count": 15,
     "metadata": {},
     "output_type": "execute_result"
    }
   ],
   "source": [
    "# Show the output only.\n",
    "data_output.head()"
   ]
  },
  {
   "cell_type": "markdown",
   "id": "b71f9666",
   "metadata": {},
   "source": [
    "## Deal with Numerical data in Navie_Bayes"
   ]
  },
  {
   "cell_type": "code",
   "execution_count": 16,
   "id": "228de105",
   "metadata": {},
   "outputs": [],
   "source": [
    "# Import GaussianNB that deal with Numerical data.\n",
    "# Secound type of naive_bayes that deal with numerical data only.\n",
    "\n",
    "from sklearn.naive_bayes import GaussianNB"
   ]
  },
  {
   "cell_type": "markdown",
   "id": "a0d3866c",
   "metadata": {},
   "source": [
    "## Train, Validation and Testing model"
   ]
  },
  {
   "cell_type": "code",
   "execution_count": 17,
   "id": "461ac748",
   "metadata": {},
   "outputs": [
    {
     "data": {
      "text/plain": [
       "0.7142857142857143"
      ]
     },
     "execution_count": 17,
     "metadata": {},
     "output_type": "execute_result"
    }
   ],
   "source": [
    "# Take object from GaussianNB.\n",
    "gaussian_nb = GaussianNB()\n",
    "\n",
    "# Train Model.\n",
    "gaussian_nb.fit(data_input, data_output)\n",
    "\n",
    "# Predict the value of ouptut.\n",
    "y_pred = gaussian_nb.predict(data_input)\n",
    "\n",
    "# Calculate the accuracy of model.\n",
    "accuracy_score(data_output, y_pred)"
   ]
  },
  {
   "cell_type": "code",
   "execution_count": 18,
   "id": "acbf74a4",
   "metadata": {},
   "outputs": [
    {
     "data": {
      "text/html": [
       "<div>\n",
       "<style scoped>\n",
       "    .dataframe tbody tr th:only-of-type {\n",
       "        vertical-align: middle;\n",
       "    }\n",
       "\n",
       "    .dataframe tbody tr th {\n",
       "        vertical-align: top;\n",
       "    }\n",
       "\n",
       "    .dataframe thead th {\n",
       "        text-align: right;\n",
       "    }\n",
       "</style>\n",
       "<table border=\"1\" class=\"dataframe\">\n",
       "  <thead>\n",
       "    <tr style=\"text-align: right;\">\n",
       "      <th></th>\n",
       "      <th>Day</th>\n",
       "      <th>Outlook</th>\n",
       "      <th>Temperature</th>\n",
       "      <th>Humidity</th>\n",
       "      <th>Wind</th>\n",
       "      <th>PlayTennis</th>\n",
       "    </tr>\n",
       "  </thead>\n",
       "  <tbody>\n",
       "    <tr>\n",
       "      <th>0</th>\n",
       "      <td>D1</td>\n",
       "      <td>0</td>\n",
       "      <td>85</td>\n",
       "      <td>85</td>\n",
       "      <td>0</td>\n",
       "      <td>0</td>\n",
       "    </tr>\n",
       "    <tr>\n",
       "      <th>1</th>\n",
       "      <td>D2</td>\n",
       "      <td>0</td>\n",
       "      <td>80</td>\n",
       "      <td>90</td>\n",
       "      <td>1</td>\n",
       "      <td>0</td>\n",
       "    </tr>\n",
       "    <tr>\n",
       "      <th>2</th>\n",
       "      <td>D3</td>\n",
       "      <td>1</td>\n",
       "      <td>83</td>\n",
       "      <td>86</td>\n",
       "      <td>0</td>\n",
       "      <td>1</td>\n",
       "    </tr>\n",
       "    <tr>\n",
       "      <th>3</th>\n",
       "      <td>D4</td>\n",
       "      <td>2</td>\n",
       "      <td>70</td>\n",
       "      <td>96</td>\n",
       "      <td>0</td>\n",
       "      <td>1</td>\n",
       "    </tr>\n",
       "    <tr>\n",
       "      <th>4</th>\n",
       "      <td>D5</td>\n",
       "      <td>2</td>\n",
       "      <td>68</td>\n",
       "      <td>80</td>\n",
       "      <td>0</td>\n",
       "      <td>1</td>\n",
       "    </tr>\n",
       "  </tbody>\n",
       "</table>\n",
       "</div>"
      ],
      "text/plain": [
       "  Day  Outlook  Temperature  Humidity  Wind  PlayTennis\n",
       "0  D1        0           85        85     0           0\n",
       "1  D2        0           80        90     1           0\n",
       "2  D3        1           83        86     0           1\n",
       "3  D4        2           70        96     0           1\n",
       "4  D5        2           68        80     0           1"
      ]
     },
     "execution_count": 18,
     "metadata": {},
     "output_type": "execute_result"
    }
   ],
   "source": [
    "data_encoded.head()"
   ]
  },
  {
   "cell_type": "code",
   "execution_count": 19,
   "id": "ff696595",
   "metadata": {},
   "outputs": [
    {
     "data": {
      "text/html": [
       "<div>\n",
       "<style scoped>\n",
       "    .dataframe tbody tr th:only-of-type {\n",
       "        vertical-align: middle;\n",
       "    }\n",
       "\n",
       "    .dataframe tbody tr th {\n",
       "        vertical-align: top;\n",
       "    }\n",
       "\n",
       "    .dataframe thead th {\n",
       "        text-align: right;\n",
       "    }\n",
       "</style>\n",
       "<table border=\"1\" class=\"dataframe\">\n",
       "  <thead>\n",
       "    <tr style=\"text-align: right;\">\n",
       "      <th></th>\n",
       "      <th>Outlook</th>\n",
       "      <th>Temperature</th>\n",
       "      <th>Humidity</th>\n",
       "      <th>Wind</th>\n",
       "    </tr>\n",
       "  </thead>\n",
       "  <tbody>\n",
       "    <tr>\n",
       "      <th>0</th>\n",
       "      <td>0</td>\n",
       "      <td>85</td>\n",
       "      <td>85</td>\n",
       "      <td>0</td>\n",
       "    </tr>\n",
       "    <tr>\n",
       "      <th>1</th>\n",
       "      <td>0</td>\n",
       "      <td>80</td>\n",
       "      <td>90</td>\n",
       "      <td>1</td>\n",
       "    </tr>\n",
       "    <tr>\n",
       "      <th>2</th>\n",
       "      <td>1</td>\n",
       "      <td>83</td>\n",
       "      <td>86</td>\n",
       "      <td>0</td>\n",
       "    </tr>\n",
       "    <tr>\n",
       "      <th>3</th>\n",
       "      <td>2</td>\n",
       "      <td>70</td>\n",
       "      <td>96</td>\n",
       "      <td>0</td>\n",
       "    </tr>\n",
       "    <tr>\n",
       "      <th>4</th>\n",
       "      <td>2</td>\n",
       "      <td>68</td>\n",
       "      <td>80</td>\n",
       "      <td>0</td>\n",
       "    </tr>\n",
       "  </tbody>\n",
       "</table>\n",
       "</div>"
      ],
      "text/plain": [
       "   Outlook  Temperature  Humidity  Wind\n",
       "0        0           85        85     0\n",
       "1        0           80        90     1\n",
       "2        1           83        86     0\n",
       "3        2           70        96     0\n",
       "4        2           68        80     0"
      ]
     },
     "execution_count": 19,
     "metadata": {},
     "output_type": "execute_result"
    }
   ],
   "source": [
    "# Split dataset to input and output.\n",
    "X = data_encoded.drop(columns = ['Day','PlayTennis'])\n",
    "y = data_encoded['PlayTennis']\n",
    "\n",
    "X.head()"
   ]
  },
  {
   "cell_type": "code",
   "execution_count": 20,
   "id": "81a791d0",
   "metadata": {},
   "outputs": [
    {
     "data": {
      "text/plain": [
       "0    0\n",
       "1    0\n",
       "2    1\n",
       "3    1\n",
       "4    1\n",
       "Name: PlayTennis, dtype: int64"
      ]
     },
     "execution_count": 20,
     "metadata": {},
     "output_type": "execute_result"
    }
   ],
   "source": [
    "y.head()"
   ]
  },
  {
   "cell_type": "markdown",
   "id": "c2bc97ea",
   "metadata": {},
   "source": [
    "## Install library to use data Mixed between Categorical and Numerical"
   ]
  },
  {
   "cell_type": "code",
   "execution_count": 22,
   "id": "b7ef15b1",
   "metadata": {},
   "outputs": [
    {
     "name": "stdout",
     "output_type": "stream",
     "text": [
      "Collecting mixed-naive-bayes\n",
      "  Using cached mixed_naive_bayes-0.0.3-py3-none-any.whl (11 kB)\n",
      "Requirement already satisfied: scikit-learn>=0.20.2 in c:\\users\\tech\\anaconda3\\lib\\site-packages (from mixed-naive-bayes) (1.0.2)\n",
      "Requirement already satisfied: numpy>=1.22.0 in c:\\users\\tech\\anaconda3\\lib\\site-packages (from mixed-naive-bayes) (1.22.4)\n",
      "Requirement already satisfied: scipy>=1.1.0 in c:\\users\\tech\\anaconda3\\lib\\site-packages (from scikit-learn>=0.20.2->mixed-naive-bayes) (1.7.3)\n",
      "Requirement already satisfied: threadpoolctl>=2.0.0 in c:\\users\\tech\\anaconda3\\lib\\site-packages (from scikit-learn>=0.20.2->mixed-naive-bayes) (2.2.0)\n",
      "Requirement already satisfied: joblib>=0.11 in c:\\users\\tech\\anaconda3\\lib\\site-packages (from scikit-learn>=0.20.2->mixed-naive-bayes) (1.1.0)\n",
      "Installing collected packages: mixed-naive-bayes\n",
      "Successfully installed mixed-naive-bayes-0.0.3\n"
     ]
    }
   ],
   "source": [
    "# Import external library to use mixed_naive_bayes.\n",
    "!pip install mixed-naive-bayes"
   ]
  },
  {
   "cell_type": "code",
   "execution_count": 23,
   "id": "c9db2a4b",
   "metadata": {},
   "outputs": [],
   "source": [
    "# The third type of naive_bayes is MixedNB ==> Use gathering between numerical and categorical.\n",
    "from mixed_naive_bayes import MixedNB"
   ]
  },
  {
   "cell_type": "code",
   "execution_count": 24,
   "id": "443eda4c",
   "metadata": {},
   "outputs": [
    {
     "data": {
      "text/plain": [
       "MixedNB(alpha=0.5, var_smoothing=1e-09)"
      ]
     },
     "execution_count": 24,
     "metadata": {},
     "output_type": "execute_result"
    }
   ],
   "source": [
    "# Take object from MixedNB.\n",
    "# categorical_features to specefic the categorical data from dataset.\n",
    "# Take the index of categorical data.\n",
    "\n",
    "mixed_nb = MixedNB(categorical_features = [0, 3])\n",
    "\n",
    "# Train Model.\n",
    "mixed_nb.fit(X, y)"
   ]
  },
  {
   "cell_type": "code",
   "execution_count": 25,
   "id": "f0f9bf43",
   "metadata": {},
   "outputs": [
    {
     "data": {
      "text/plain": [
       "0.9285714285714286"
      ]
     },
     "execution_count": 25,
     "metadata": {},
     "output_type": "execute_result"
    }
   ],
   "source": [
    "# Predict the values of output.\n",
    "y_pred = mixed_nb.predict(X)\n",
    "\n",
    "# Calculate accuray of Model.\n",
    "accuracy_score(y, y_pred)"
   ]
  },
  {
   "cell_type": "code",
   "execution_count": null,
   "id": "fd74a8ab",
   "metadata": {},
   "outputs": [],
   "source": []
  }
 ],
 "metadata": {
  "kernelspec": {
   "display_name": "Python 3 (ipykernel)",
   "language": "python",
   "name": "python3"
  },
  "language_info": {
   "codemirror_mode": {
    "name": "ipython",
    "version": 3
   },
   "file_extension": ".py",
   "mimetype": "text/x-python",
   "name": "python",
   "nbconvert_exporter": "python",
   "pygments_lexer": "ipython3",
   "version": "3.9.12"
  }
 },
 "nbformat": 4,
 "nbformat_minor": 5
}
